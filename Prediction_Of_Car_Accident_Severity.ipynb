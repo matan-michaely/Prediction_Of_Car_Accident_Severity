{
  "nbformat": 4,
  "nbformat_minor": 0,
  "metadata": {
    "colab": {
      "provenance": [],
      "authorship_tag": "ABX9TyOi839uXl93Qz1k8UQTwfcb",
      "include_colab_link": true
    },
    "kernelspec": {
      "name": "python3",
      "display_name": "Python 3"
    },
    "language_info": {
      "name": "python"
    }
  },
  "cells": [
    {
      "cell_type": "markdown",
      "metadata": {
        "id": "view-in-github",
        "colab_type": "text"
      },
      "source": [
        "<a href=\"https://colab.research.google.com/github/matan-michaely/Prediction_Of_Car_Accident_Severity/blob/main/Prediction_Of_Car_Accident_Severity.ipynb\" target=\"_parent\"><img src=\"https://colab.research.google.com/assets/colab-badge.svg\" alt=\"Open In Colab\"/></a>"
      ]
    },
    {
      "cell_type": "markdown",
      "source": [
        "## **Prediction Of Car Accident Severity**\n",
        "This notebook was created by Lior Durahly (209102953) & Matan Michaely (206583841) as part of the Data Sciense workshop at the Open University of Israel, Summer of 2023.\n",
        "</br>\n",
        "</br>\n",
        "When we discussed about our project's subject and which areas we would like to research and expand our knowledge we first agreed that our subject should help to reduce life loss and make the world a better place to be in. After some digging in kaggle datasets we came across [car accident dataset in the US](https://www.kaggle.com/datasets/sobhanmoosavi/us-accidents) and since we were both passionate about saving life agenda we thought it will be a great subject for this project.\n",
        "</br>\n",
        "\n",
        "\n",
        "## **The problem**\n",
        "The problem of car accidents is a multifaceted issue with far-reaching implications. First and foremost, the human toll is the most heart-wrenching aspect. Car accidents claim countless lives each year, leaving families and communities devastated by the loss of loved ones. The physical injuries resulting from accidents can range from minor to life-altering, placing a tremendous burden on healthcare systems and often resulting in long-term medical expenses and rehabilitation.\n",
        "\n",
        "Financially, car accidents cost societies billions of dollars annually. These costs encompass medical bills, vehicle repair or replacement, legal fees, insurance premiums, and lost productivity due to injuries or fatalities. These financial burdens can have long-lasting consequences, affecting the economic well-being of individuals and communities.\n",
        "\n",
        "Environmental concerns are another facet of the problem. Car accidents contribute to pollution through the release of oil, gasoline, and other hazardous materials, which can harm ecosystems and contaminate water sources. Moreover, traffic congestion caused by accidents leads to increased fuel consumption and greenhouse gas emissions, exacerbating the environmental impact.\n",
        "\n",
        "To tackle this multifaceted problem effectively, solutions must encompass various domains. Enhanced driver education and awareness campaigns can promote safer driving practices, while stricter enforcement of traffic laws can deter reckless behavior. The development and adoption of advanced driver assistance systems (ADAS) and autonomous vehicles hold promise for reducing accidents caused by human error.\n",
        "\n",
        "Additionally, predictive models and data-driven approaches, such as machine learning algorithms, can aid in accident prevention by identifying high-risk areas and patterns that contribute to accidents. Furthermore, improved road infrastructure and traffic management systems can enhance safety.\n",
        "\n",
        "In conclusion , the problem of car accidents goes beyond the physical collision itself, impacting lives, economies, and the environment. Addressing this issue requires a holistic approach that combines education, technology, policy, and infrastructure improvements to minimize the frequency and severity of accidents, ultimately making our roads safer for everyone.\n",
        "\n",
        "## **Purpose & goal definition**\n",
        "In the contemporary landscape of urban transportation, car accidents remain a significant concern with far-reaching implications for public safety and road infrastructure. Analyzing the factors contributing to accidents & understanding their severity is crucial for devising effective preventive measures and enhancing road safety standards. This project aims to explore the details of car accidents by leveraging a comprehensive dataset, shedding light on patterns, key determinants, and use a predictive model for accident severity. </br>\n",
        "\n",
        " Our primary goal is to enhance road safety by providing early warning systems to both drivers and traffic management authorities. By analyzing a multitude of factors such as weather conditions, road infrastructure. Ultimately, the objective is to save lives, reduce injuries, and minimize property damage by empowering stakeholders with valuable insights for proactive intervention and decision-making in the realm of traffic safety."
      ],
      "metadata": {
        "id": "n56-Bdz29qJg"
      }
    }
  ]
}